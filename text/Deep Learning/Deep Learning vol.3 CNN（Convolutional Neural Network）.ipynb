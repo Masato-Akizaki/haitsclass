{
 "cells": [
  {
   "cell_type": "code",
   "execution_count": 1,
   "metadata": {
    "collapsed": true
   },
   "outputs": [],
   "source": [
    "# 必要なライブラリの読み込み\n",
    "%matplotlib inline\n",
    "import matplotlib.pyplot as plt\n",
    "import numpy as np"
   ]
  },
  {
   "cell_type": "code",
   "execution_count": 2,
   "metadata": {},
   "outputs": [
    {
     "data": {
      "text/plain": [
       "('label.pickle', <http.client.HTTPMessage at 0x1057bf3c8>)"
      ]
     },
     "execution_count": 2,
     "metadata": {},
     "output_type": "execute_result"
    }
   ],
   "source": [
    "# データセットのダウンロード\n",
    "# 2回目以降は実行する必要はありません\n",
    "from urllib import request\n",
    "\n",
    "# trainデータのダウンロード\n",
    "url = 'https://s3-ap-northeast-1.amazonaws.com/ai-std/train.pickle'\n",
    "request.urlretrieve(url, 'train.pickle')\n",
    "\n",
    "# testデータのダウンロード\n",
    "url = 'https://s3-ap-northeast-1.amazonaws.com/ai-std/test.pickle'\n",
    "request.urlretrieve(url, 'test.pickle')\n",
    "\n",
    "# ラベルデータのダウンロード\n",
    "url = 'https://s3-ap-northeast-1.amazonaws.com/ai-std/label.pickle'\n",
    "request.urlretrieve(url, 'label.pickle')"
   ]
  },
  {
   "cell_type": "code",
   "execution_count": 3,
   "metadata": {},
   "outputs": [
    {
     "name": "stdout",
     "output_type": "stream",
     "text": [
      "保存されるオブジェクトです\n"
     ]
    }
   ],
   "source": [
    "# pickleのサンプルプログラム\n",
    "import pickle\n",
    "\n",
    "# 適当なオブジェクトを用意\n",
    "obj = '保存されるオブジェクトです'\n",
    "\n",
    "# Pythonオブジェクトをpickleファイルとして保存\n",
    "with open('sample.pickle','wb') as f:\n",
    "    pickle.dump(obj, f) # (Pythonオブジェクト, pickleファイル)\n",
    "\n",
    "# pickleファイルをPythonオブジェクトとして読込\n",
    "with open('sample.pickle','rb') as f:\n",
    "    loaded_obj = pickle.load(f)  # (pickleファイル)\n",
    "\n",
    "# 読み込んだオブジェクトを確認\n",
    "print(loaded_obj)"
   ]
  },
  {
   "cell_type": "code",
   "execution_count": 4,
   "metadata": {
    "collapsed": true
   },
   "outputs": [],
   "source": [
    "# pickle形式のファイルを読み込む関数\n",
    "# (保存されたpickleファイル)\n",
    "def unpickle(file):\n",
    "    # 保存されたpickleファイルを読み込み\n",
    "    # 'rb'は｢読み込み専用(r)｣かつ｢バイト列(b)｣を意味する\n",
    "    with open(file, 'rb') as f:\n",
    "        return pickle.load(f, encoding='bytes')\n"
   ]
  },
  {
   "cell_type": "code",
   "execution_count": 5,
   "metadata": {
    "collapsed": true
   },
   "outputs": [],
   "source": [
    "# データの読み込みを実行\n",
    "train = unpickle('train.pickle')\n",
    "test = unpickle('test.pickle')\n",
    "label = unpickle('label.pickle')"
   ]
  },
  {
   "cell_type": "code",
   "execution_count": 6,
   "metadata": {},
   "outputs": [
    {
     "name": "stdout",
     "output_type": "stream",
     "text": [
      "<class 'dict'>\n",
      "<class 'dict'>\n",
      "<class 'list'>\n"
     ]
    }
   ],
   "source": [
    "# trainデータの型を確認\n",
    "print(type(train))\n",
    "print(type(test))\n",
    "print(type(label))"
   ]
  },
  {
   "cell_type": "code",
   "execution_count": 7,
   "metadata": {},
   "outputs": [
    {
     "data": {
      "text/plain": [
       "['clock', 'cup', 'bicycle', 'television', 'chair']"
      ]
     },
     "execution_count": 7,
     "metadata": {},
     "output_type": "execute_result"
    }
   ],
   "source": [
    "# クラスラベルを確認\n",
    "label"
   ]
  },
  {
   "cell_type": "code",
   "execution_count": 8,
   "metadata": {
    "collapsed": true
   },
   "outputs": [],
   "source": [
    "# データを変数に格納\n",
    "X_train = train['data']\n",
    "y_train = train['label']\n",
    "X_test = test['data']\n",
    "y_test = test['label']"
   ]
  },
  {
   "cell_type": "code",
   "execution_count": 9,
   "metadata": {},
   "outputs": [
    {
     "name": "stdout",
     "output_type": "stream",
     "text": [
      "2500 500\n"
     ]
    }
   ],
   "source": [
    "# サンプル数を確認\n",
    "N_train = len(X_train)  \n",
    "N_test = len(X_test)\n",
    "print(N_train, N_test)"
   ]
  },
  {
   "cell_type": "code",
   "execution_count": 10,
   "metadata": {},
   "outputs": [
    {
     "name": "stdout",
     "output_type": "stream",
     "text": [
      "(2500, 3, 32, 32)\n",
      "(500, 3, 32, 32)\n"
     ]
    }
   ],
   "source": [
    "# 画像サイズを確認\n",
    "# 3チャンネル × 縦32ピクセル × 横32ピクセル\n",
    "print(train['data'].shape)\n",
    "print(test['data'].shape)"
   ]
  },
  {
   "cell_type": "code",
   "execution_count": 11,
   "metadata": {
    "collapsed": true
   },
   "outputs": [],
   "source": [
    "# 正規化処理\n",
    "X_train /= 255.0\n",
    "X_test /= 255.0"
   ]
  },
  {
   "cell_type": "code",
   "execution_count": 12,
   "metadata": {
    "collapsed": true
   },
   "outputs": [],
   "source": [
    "# testデータのサンプルについて情報を確認する関数\n",
    "# (testデータのindex)\n",
    "def show_test_sample_info(index):\n",
    "    # (channel, height, width)を(height, width, channel)に変換\n",
    "    img = X_test[index].transpose(1,2,0)\n",
    "    \n",
    "    # 画像を出力\n",
    "    plt.imshow(img)\n",
    "    plt.show()\n",
    "    \n",
    "    # 正解ラベルを出力\n",
    "    print('class: ' + label[y_test[index]])\n",
    "    print('label: ' + str(y_test[index]))"
   ]
  },
  {
   "cell_type": "code",
   "execution_count": 13,
   "metadata": {},
   "outputs": [
    {
     "data": {
      "image/png": "[encoded data removed]",
      "text/plain": [
       "<matplotlib.figure.Figure at 0x1057e47f0>"
      ]
     },
     "metadata": {},
     "output_type": "display_data"
    },
    {
     "name": "stdout",
     "output_type": "stream",
     "text": [
      "class: chair\n",
      "label: 4\n"
     ]
    }
   ],
   "source": [
    "# testデータのサンプルについて情報を確認\n",
    "# 引数のindexを変えていろいろな画像を出力してみましょう\n",
    "show_test_sample_info(402)"
   ]
  },
  {
   "cell_type": "code",
   "execution_count": 14,
   "metadata": {},
   "outputs": [
    {
     "name": "stderr",
     "output_type": "stream",
     "text": [
      "/Users/akizakimasato/.pyenv/versions/anaconda3-5.0.0/lib/python3.6/site-packages/h5py/__init__.py:34: FutureWarning: Conversion of the second argument of issubdtype from `float` to `np.floating` is deprecated. In future, it will be treated as `np.float64 == np.dtype(float).type`.\n",
      "  from ._conv import register_converters as _register_converters\n"
     ]
    }
   ],
   "source": [
    "# 必要なライブラリの読み込み\n",
    "import chainer\n",
    "import chainer.functions as F\n",
    "import chainer.links as L\n",
    "from chainer import optimizers"
   ]
  },
  {
   "cell_type": "code",
   "execution_count": 15,
   "metadata": {
    "collapsed": true
   },
   "outputs": [],
   "source": [
    "# CNNの定義\n",
    "class CNN(chainer.Chain):\n",
    "    def __init__(self):\n",
    "        super().__init__()\n",
    "        with self.init_scope():\n",
    "            self.conv1 = L.Convolution2D(in_channels=3, out_channels=64, ksize=4, stride=1, pad=2)\n",
    "            self.conv2 = L.Convolution2D(in_channels=64, out_channels=128, ksize=4, stride=1, pad=2)\n",
    "            self.conv3 = L.Convolution2D(in_channels=None, out_channels=128, ksize=4, stride=1, pad=2) # in_channelをNoneで省略\n",
    "            self.fc4 = L.Linear(None, 512)\n",
    "            self.fc5 = L.Linear(None, 5) # out_channelはクラス数と同じ5に設定\n",
    "        \n",
    "        \n",
    "    def __call__(self, X):\n",
    "        h = F.relu(F.max_pooling_2d(self.conv1(X), ksize=2)) # conv1の畳み込みのあとにMaxPoolingを実行\n",
    "        h = F.relu(F.max_pooling_2d(self.conv2(h), ksize=2)) # conv2の畳み込みのあとにMaxPpoolingを実行\n",
    "        h = F.relu(F.max_pooling_2d(self.conv3(h), ksize=2)) # conv3の畳み込みのあとにMaxPoolingを実行\n",
    "        h = F.relu(self.fc4(h))\n",
    "        return self.fc5(h)"
   ]
  },
  {
   "cell_type": "code",
   "execution_count": 16,
   "metadata": {
    "collapsed": true
   },
   "outputs": [],
   "source": [
    "# 必要なライブラリを読み込み\n",
    "from chainer.datasets import tuple_dataset\n",
    "from chainer.training import extensions\n",
    "from chainer import optimizers, serializers, training, iterators"
   ]
  },
  {
   "cell_type": "code",
   "execution_count": 17,
   "metadata": {
    "collapsed": true
   },
   "outputs": [],
   "source": [
    "# 分類器インスタンスの生成\n",
    "model = L.Classifier(CNN())\n",
    "\n",
    "# optimizerの生成\n",
    "optimizer = chainer.optimizers.SGD() # 今回はSGDを採用\n",
    "optimizer.setup(model)               # モデルの構造を読み込ませる\n",
    "\n",
    "# ミニバッチに含まれるサンプル数を指定\n",
    "batchsize = 100\n",
    "\n",
    "# epoch数を指定\n",
    "n_epoch = 100"
   ]
  },
  {
   "cell_type": "code",
   "execution_count": 18,
   "metadata": {
    "collapsed": true
   },
   "outputs": [],
   "source": [
    "# trainerを定義\n",
    "train = tuple_dataset.TupleDataset(X_train,y_train)\n",
    "train_iter = iterators.SerialIterator(train,batch_size=batchsize,shuffle=True)\n",
    "updater = training.StandardUpdater(train_iter,optimizer)\n",
    "trainer = training.Trainer(updater,(n_epoch,'epoch'),out = 'result')"
   ]
  },
  {
   "cell_type": "code",
   "execution_count": 19,
   "metadata": {
    "collapsed": true
   },
   "outputs": [],
   "source": [
    "# Extensionsを利用してtrainerの機能を拡張\n",
    "test = tuple_dataset.TupleDataset(X_test,y_test)\n",
    "test_iter = iterators.SerialIterator(test,batch_size=batchsize,shuffle=False,repeat=False)\n",
    "trainer.extend(extensions.Evaluator(test_iter, model))\n",
    "trainer.extend(extensions.LogReport())\n",
    "trainer.extend(extensions.PrintReport(['epoch', 'main/accuracy', 'main/loss', 'validation/main/accuracy', 'validation/main/loss']))\n",
    "trainer.extend(extensions.ProgressBar())\n",
    "trainer.extend(extensions.PlotReport(['main/accuracy', 'validation/main/accuracy'],\n",
    "                          'epoch', file_name='accuracy.png'))\n",
    "trainer.extend(extensions.PlotReport(['main/loss', 'validation/main/loss'],\n",
    "                          'epoch', file_name='loss.png'))"
   ]
  },
  {
   "cell_type": "code",
   "execution_count": 20,
   "metadata": {},
   "outputs": [
    {
     "name": "stdout",
     "output_type": "stream",
     "text": [
      "epoch       main/accuracy  main/loss   validation/main/accuracy  validation/main/loss\n",
      "\u001b[J1           0.2396         1.58721     0.248                     1.56988               \n",
      "\u001b[J2           0.2884         1.55231     0.26                      1.5276                \n",
      "\u001b[J3           0.3324         1.51943     0.434                     1.49286               \n",
      "\u001b[J4           0.3772         1.49311     0.396                     1.46164               \n",
      "\u001b[J     total [##................................................]  4.00%\n",
      "this epoch [..................................................]  0.00%\n",
      "       100 iter, 4 epoch / 100 epochs\n",
      "       inf iters/sec. Estimated time to finish: 0:00:00.\n",
      "\u001b[4A\u001b[J5           0.388          1.45953     0.41                      1.45277               \n",
      "\u001b[J6           0.3944         1.44268     0.386                     1.43212               \n",
      "\u001b[J7           0.4448         1.40113     0.336                     1.40625               \n",
      "\u001b[J8           0.416          1.39331     0.434                     1.37042               \n",
      "\u001b[J     total [####..............................................]  8.00%\n",
      "this epoch [..................................................]  0.00%\n",
      "       200 iter, 8 epoch / 100 epochs\n",
      "   0.44497 iters/sec. Estimated time to finish: 1:26:08.922183.\n",
      "\u001b[4A\u001b[J9           0.446          1.35455     0.496                     1.30562               \n",
      "\u001b[J10          0.4812         1.33351     0.498                     1.28476               \n",
      "\u001b[J11          0.4816         1.31023     0.544                     1.28758               \n",
      "\u001b[J12          0.4872         1.28339     0.478                     1.33279               \n",
      "\u001b[J     total [######............................................] 12.00%\n",
      "this epoch [..................................................]  0.00%\n",
      "       300 iter, 12 epoch / 100 epochs\n",
      "   0.44418 iters/sec. Estimated time to finish: 1:22:32.967705.\n",
      "\u001b[4A\u001b[J13          0.5104         1.2626      0.554                     1.23632               \n",
      "\u001b[J14          0.496          1.26271     0.514                     1.2325                \n",
      "\u001b[J15          0.5316         1.21811     0.602                     1.16817               \n",
      "\u001b[J16          0.5524         1.18794     0.576                     1.16261               \n",
      "\u001b[J     total [########..........................................] 16.00%\n",
      "this epoch [..................................................]  0.00%\n",
      "       400 iter, 16 epoch / 100 epochs\n",
      "   0.44691 iters/sec. Estimated time to finish: 1:18:18.974813.\n",
      "\u001b[4A\u001b[J17          0.5704         1.17414     0.582                     1.13147               \n",
      "\u001b[J18          0.5808         1.13523     0.604                     1.15003               \n",
      "\u001b[J19          0.5772         1.13761     0.636                     1.07266               \n",
      "\u001b[J20          0.6036         1.09626     0.61                      1.07182               \n",
      "\u001b[J     total [##########........................................] 20.00%\n",
      "this epoch [..................................................]  0.00%\n",
      "       500 iter, 20 epoch / 100 epochs\n",
      "   0.44874 iters/sec. Estimated time to finish: 1:14:16.938001.\n",
      "\u001b[4A\u001b[J21          0.6116         1.06269     0.43                      1.27771               \n",
      "\u001b[J22          0.6164         1.07433     0.66                      1.02222               \n",
      "\u001b[J23          0.6304         1.01577     0.644                     1.04062               \n",
      "\u001b[J24          0.6428         0.983571    0.61                      1.03835               \n",
      "\u001b[J     total [############......................................] 24.00%\n",
      "this epoch [..................................................]  0.00%\n",
      "       600 iter, 24 epoch / 100 epochs\n",
      "   0.44941 iters/sec. Estimated time to finish: 1:10:27.756500.\n",
      "\u001b[4A\u001b[J25          0.6312         1.02772     0.622                     1.01148               \n",
      "\u001b[J26          0.6664         0.949596    0.652                     0.975296              \n",
      "\u001b[J27          0.662          0.94548     0.56                      1.13285               \n",
      "\u001b[J28          0.6716         0.915186    0.664                     0.918181              \n",
      "\u001b[J     total [##############....................................] 28.00%\n",
      "this epoch [..................................................]  0.00%\n",
      "       700 iter, 28 epoch / 100 epochs\n",
      "   0.44978 iters/sec. Estimated time to finish: 1:06:41.923242.\n",
      "\u001b[4A\u001b[J29          0.6724         0.916314    0.6                       1.04362               \n",
      "\u001b[J30          0.6844         0.878817    0.666                     0.91532               \n",
      "\u001b[J31          0.6768         0.889805    0.67                      0.8945                \n",
      "\u001b[J32          0.7048         0.848451    0.666                     0.897331              \n",
      "\u001b[J     total [################..................................] 32.00%\n",
      "this epoch [..................................................]  0.00%\n",
      "       800 iter, 32 epoch / 100 epochs\n",
      "   0.45045 iters/sec. Estimated time to finish: 1:02:54.033223.\n",
      "\u001b[4A\u001b[J33          0.7212         0.835722    0.678                     0.880824              \n",
      "\u001b[J34          0.7076         0.812041    0.51                      1.21944               \n",
      "\u001b[J35          0.7092         0.819685    0.616                     0.993481              \n",
      "\u001b[J36          0.7328         0.775326    0.598                     1.00826               \n",
      "\u001b[J     total [##################................................] 36.00%\n",
      "this epoch [..................................................]  0.00%\n",
      "       900 iter, 36 epoch / 100 epochs\n",
      "   0.45083 iters/sec. Estimated time to finish: 0:59:09.001566.\n",
      "\u001b[4A\u001b[J37          0.7316         0.77342     0.676                     0.884477              \n",
      "\u001b[J38          0.7344         0.758207    0.696                     0.84082               \n",
      "\u001b[J39          0.7404         0.746291    0.674                     0.911731              \n",
      "\u001b[J40          0.7432         0.755896    0.674                     0.868577              \n",
      "\u001b[J     total [####################..............................] 40.00%\n",
      "this epoch [..................................................]  0.00%\n",
      "      1000 iter, 40 epoch / 100 epochs\n",
      "   0.44545 iters/sec. Estimated time to finish: 0:56:07.381864.\n",
      "\u001b[4A\u001b[J41          0.724          0.756435    0.726                     0.802906              \n",
      "\u001b[J42          0.7736         0.681072    0.722                     0.779619              \n",
      "\u001b[J43          0.754          0.710495    0.734                     0.771596              \n",
      "\u001b[J44          0.7744         0.666952    0.69                      0.818911              \n",
      "\u001b[J     total [######################............................] 44.00%\n",
      "this epoch [..................................................]  0.00%\n",
      "      1100 iter, 44 epoch / 100 epochs\n",
      "   0.44478 iters/sec. Estimated time to finish: 0:52:27.588201.\n",
      "\u001b[4A\u001b[J45          0.7668         0.671262    0.688                     0.850546              \n",
      "\u001b[J46          0.7684         0.674163    0.726                     0.756413              \n",
      "\u001b[J47          0.7792         0.638763    0.64                      1.02307               \n",
      "\u001b[J48          0.7732         0.64729     0.718                     0.786199              \n",
      "\u001b[J     total [########################..........................] 48.00%\n",
      "this epoch [..................................................]  0.00%\n",
      "      1200 iter, 48 epoch / 100 epochs\n",
      "   0.44557 iters/sec. Estimated time to finish: 0:48:37.611393.\n",
      "\u001b[4A\u001b[J49          0.7808         0.634475    0.724                     0.780922              \n",
      "\u001b[J50          0.7876         0.608232    0.674                     0.862067              \n",
      "\u001b[J51          0.7964         0.598363    0.69                      0.806951              \n",
      "\u001b[J52          0.7964         0.600358    0.688                     0.843201              \n",
      "\u001b[J     total [##########################........................] 52.00%\n",
      "this epoch [..................................................]  0.00%\n",
      "      1300 iter, 52 epoch / 100 epochs\n",
      "   0.44627 iters/sec. Estimated time to finish: 0:44:48.940417.\n",
      "\u001b[4A\u001b[J53          0.8088         0.570727    0.724                     0.749934              \n",
      "\u001b[J54          0.7996         0.589577    0.724                     0.762157              \n"
     ]
    },
    {
     "name": "stdout",
     "output_type": "stream",
     "text": [
      "\u001b[J55          0.8192         0.529501    0.722                     0.800811              \n",
      "\u001b[J56          0.8048         0.569784    0.75                      0.685293              \n",
      "\u001b[J     total [############################......................] 56.00%\n",
      "this epoch [..................................................]  0.00%\n",
      "      1400 iter, 56 epoch / 100 epochs\n",
      "   0.44658 iters/sec. Estimated time to finish: 0:41:03.140046.\n",
      "\u001b[4A\u001b[J57          0.8152         0.532663    0.74                      0.75338               \n",
      "\u001b[J58          0.828          0.512464    0.716                     0.723572              \n",
      "\u001b[J59          0.812          0.536298    0.734                     0.737918              \n",
      "\u001b[J60          0.8148         0.532421    0.76                      0.686674              \n",
      "\u001b[J     total [##############################....................] 60.00%\n",
      "this epoch [..................................................]  0.00%\n",
      "      1500 iter, 60 epoch / 100 epochs\n",
      "   0.44571 iters/sec. Estimated time to finish: 0:37:23.601595.\n",
      "\u001b[4A\u001b[J61          0.8244         0.508614    0.754                     0.686873              \n",
      "\u001b[J62          0.8396         0.484117    0.746                     0.698492              \n",
      "\u001b[J63          0.84           0.484875    0.744                     0.672932              \n",
      "\u001b[J64          0.834          0.488875    0.752                     0.69682               \n",
      "\u001b[J     total [################################..................] 64.00%\n",
      "this epoch [..................................................]  0.00%\n",
      "      1600 iter, 64 epoch / 100 epochs\n",
      "   0.44263 iters/sec. Estimated time to finish: 0:33:53.305083.\n",
      "\u001b[4A\u001b[J65          0.8524         0.451571    0.766                     0.65827               \n",
      "\u001b[J66          0.8468         0.445633    0.742                     0.705714              \n",
      "\u001b[J67          0.8084         0.541156    0.768                     0.653785              \n",
      "\u001b[J68          0.8696         0.417572    0.752                     0.6915                \n",
      "\u001b[J     total [##################################................] 68.00%\n",
      "this epoch [..................................................]  0.00%\n",
      "      1700 iter, 68 epoch / 100 epochs\n",
      "   0.43837 iters/sec. Estimated time to finish: 0:30:24.927299.\n",
      "\u001b[4A\u001b[J69          0.8608         0.426982    0.754                     0.706763              \n",
      "\u001b[J70          0.8484         0.43544     0.752                     0.668429              \n",
      "\u001b[J71          0.8636         0.412213    0.754                     0.687314              \n",
      "\u001b[J72          0.846          0.456838    0.77                      0.666833              \n",
      "\u001b[J     total [####################################..............] 72.00%\n",
      "this epoch [..................................................]  0.00%\n",
      "      1800 iter, 72 epoch / 100 epochs\n",
      "   0.43457 iters/sec. Estimated time to finish: 0:26:50.801550.\n",
      "\u001b[4A\u001b[J73          0.886          0.367906    0.778                     0.640974              \n",
      "\u001b[J74          0.8652         0.42077     0.766                     0.663693              \n",
      "\u001b[J75          0.8788         0.371113    0.772                     0.659453              \n",
      "\u001b[J76          0.8844         0.364269    0.706                     0.855108              \n",
      "\u001b[J     total [######################################............] 76.00%\n",
      "this epoch [..................................................]  0.00%\n",
      "      1900 iter, 76 epoch / 100 epochs\n",
      "   0.43253 iters/sec. Estimated time to finish: 0:23:07.199312.\n",
      "\u001b[4A\u001b[J77          0.862          0.407137    0.746                     0.687141              \n",
      "\u001b[J78          0.8988         0.332536    0.768                     0.718496              \n",
      "\u001b[J79          0.8728         0.365532    0.698                     0.945291              \n",
      "\u001b[J80          0.8892         0.348496    0.682                     0.914798              \n",
      "\u001b[J     total [########################################..........] 80.00%\n",
      "this epoch [..................................................]  0.00%\n",
      "      2000 iter, 80 epoch / 100 epochs\n",
      "   0.43053 iters/sec. Estimated time to finish: 0:19:21.362475.\n",
      "\u001b[4A\u001b[J81          0.8812         0.346311    0.722                     0.789138              \n",
      "\u001b[J82          0.8864         0.340925    0.786                     0.658301              \n",
      "\u001b[J83          0.8856         0.342702    0.76                      0.689016              \n",
      "\u001b[J84          0.902          0.314279    0.776                     0.639635              \n",
      "\u001b[J     total [##########################################........] 84.00%\n",
      "this epoch [..................................................]  0.00%\n",
      "      2100 iter, 84 epoch / 100 epochs\n",
      "   0.42762 iters/sec. Estimated time to finish: 0:15:35.419689.\n",
      "\u001b[4A\u001b[J85          0.8984         0.312257    0.652                     1.17367               \n",
      "\u001b[J86          0.902          0.314409    0.72                      0.762544              \n",
      "\u001b[J87          0.9068         0.304565    0.712                     0.866824              \n",
      "\u001b[J88          0.92           0.271404    0.77                      0.655249              \n",
      "\u001b[J     total [############################################......] 88.00%\n",
      "this epoch [..................................................]  0.00%\n",
      "      2200 iter, 88 epoch / 100 epochs\n",
      "    0.4255 iters/sec. Estimated time to finish: 0:11:45.058674.\n",
      "\u001b[4A\u001b[J89          0.8908         0.321333    0.78                      0.659325              \n",
      "\u001b[J90          0.906          0.285655    0.764                     0.690745              \n",
      "\u001b[J91          0.9172         0.270886    0.768                     0.649536              \n",
      "\u001b[J92          0.9276         0.255035    0.784                     0.707139              \n",
      "\u001b[J     total [##############################################....] 92.00%\n",
      "this epoch [..................................................]  0.00%\n",
      "      2300 iter, 92 epoch / 100 epochs\n",
      "   0.42381 iters/sec. Estimated time to finish: 0:07:51.908059.\n",
      "\u001b[4A\u001b[J93          0.916          0.265119    0.782                     0.675456              \n",
      "\u001b[J94          0.9248         0.252832    0.762                     0.756808              \n",
      "\u001b[J95          0.918          0.264432    0.792                     0.650536              \n",
      "\u001b[J96          0.9232         0.248056    0.754                     0.701322              \n",
      "\u001b[J     total [################################################..] 96.00%\n",
      "this epoch [..................................................]  0.00%\n",
      "      2400 iter, 96 epoch / 100 epochs\n",
      "   0.42536 iters/sec. Estimated time to finish: 0:03:55.096529.\n",
      "\u001b[4A\u001b[J97          0.926          0.255761    0.778                     0.651738              \n",
      "\u001b[J98          0.9376         0.214474    0.738                     0.77032               \n",
      "\u001b[J99          0.9128         0.277112    0.722                     0.86715               \n",
      "\u001b[J100         0.9296         0.221299    0.79                      0.64327               \n",
      "\u001b[J     total [##################################################] 100.00%\n",
      "this epoch [..................................................]  0.00%\n",
      "      2500 iter, 100 epoch / 100 epochs\n",
      "   0.42662 iters/sec. Estimated time to finish: 0:00:00.\n",
      "\u001b[4A\u001b[J"
     ]
    }
   ],
   "source": [
    "# 学習を実行\n",
    "trainer.run()"
   ]
  },
  {
   "cell_type": "code",
   "execution_count": 21,
   "metadata": {
    "collapsed": true
   },
   "outputs": [],
   "source": [
    "# モデルを利用して予測をする関数を定義\n",
    "def predict(model, X):\n",
    "    if len(X.shape) == 3:  # データ数が1の場合は、バッチサイズ分の次元を追加\n",
    "        pred = model.predictor(X[None, ...]).data.argmax()\n",
    "    else:  # データ数が2以上の場合はそのまま\n",
    "        pred = model.predictor(X).data.argmax(axis=1)\n",
    "    return pred"
   ]
  },
  {
   "cell_type": "code",
   "execution_count": 22,
   "metadata": {},
   "outputs": [
    {
     "name": "stdout",
     "output_type": "stream",
     "text": [
      "accuracy: 0.790\n",
      "recall: 0.790\n",
      "precision: 0.791\n",
      "f1_score: 0.789\n"
     ]
    }
   ],
   "source": [
    "# 性能指標を確認\n",
    "from sklearn import metrics\n",
    "print('accuracy: %.3f' % metrics.accuracy_score(y_test, predict(model, X_test)))\n",
    "print('recall: %.3f' % metrics.recall_score(y_test, predict(model, X_test), average='macro'))\n",
    "print('precision: %.3f' % metrics.precision_score(y_test, predict(model, X_test), average='macro'))\n",
    "print('f1_score: %.3f' % metrics.f1_score(y_test, predict(model, X_test), average='macro'))"
   ]
  },
  {
   "cell_type": "code",
   "execution_count": 23,
   "metadata": {
    "collapsed": true
   },
   "outputs": [],
   "source": [
    "# PlotReportによるグラフを出力する関数\n",
    "from pylab import box\n",
    "def show_graph(src):\n",
    "    img =  plt.imread(src)\n",
    "    xpixels, ypixels = img.shape[0],img.shape[1]\n",
    "    dpi = 100\n",
    "    margin = 0.01\n",
    "    figsize = (1 + margin) * ypixels / dpi, (1 + margin) * xpixels / dpi\n",
    "\n",
    "    fig = plt.figure(figsize=figsize, dpi=dpi)\n",
    "    ax = fig.add_axes([margin, margin, 1 - 2*margin, 1 - 2*margin])\n",
    "    ax.tick_params(labelbottom=\"off\",bottom=\"off\")\n",
    "    ax.tick_params(labelleft=\"off\",left=\"off\")\n",
    "\n",
    "    ax.imshow(img, interpolation='none')\n",
    "    box(\"off\")\n",
    "    plt.show()"
   ]
  },
  {
   "cell_type": "code",
   "execution_count": 24,
   "metadata": {},
   "outputs": [
    {
     "data": {
      "image/png": "[encoded data removed]",
      "text/plain": [
       "<matplotlib.figure.Figure at 0x11ca2ecc0>"
      ]
     },
     "metadata": {},
     "output_type": "display_data"
    },
    {
     "data": {
      "image/png": "[encoded data removed]",
      "text/plain": [
       "<matplotlib.figure.Figure at 0x11482e7f0>"
      ]
     },
     "metadata": {},
     "output_type": "display_data"
    }
   ],
   "source": [
    "# 精度と誤差をグラフ描画\n",
    "show_graph('result/loss.png')\n",
    "show_graph('result/accuracy.png')"
   ]
  },
  {
   "cell_type": "code",
   "execution_count": 25,
   "metadata": {},
   "outputs": [
    {
     "data": {
      "image/png": "[encoded data removed]",
      "text/plain": [
       "<matplotlib.figure.Figure at 0x114850ac8>"
      ]
     },
     "metadata": {},
     "output_type": "display_data"
    },
    {
     "name": "stdout",
     "output_type": "stream",
     "text": [
      "class: clock\n",
      "label: 0\n",
      "predict: 0\n",
      "正解です｡\n"
     ]
    }
   ],
   "source": [
    "# indexを指定\n",
    "index = 1\n",
    "\n",
    "# 画像を出力\n",
    "show_test_sample_info(index)\n",
    "\n",
    "# 指定のindexが与えられたtestデータについて確認\n",
    "pred = predict(model, X_test[index])\n",
    "print('predict: {}'.format(pred))\n",
    "\n",
    "# 正解か不正解かを出力\n",
    "if pred == y_test[index]:\n",
    "    print('正解です｡')\n",
    "else:\n",
    "    print('間違いです｡')"
   ]
  },
  {
   "cell_type": "code",
   "execution_count": 26,
   "metadata": {},
   "outputs": [
    {
     "data": {
      "image/png": "[encoded data removed]",
      "text/plain": [
       "<matplotlib.figure.Figure at 0x1147f6ef0>"
      ]
     },
     "metadata": {},
     "output_type": "display_data"
    }
   ],
   "source": [
    "from sklearn.metrics import confusion_matrix as cm\n",
    "\n",
    "# 混同行列きれいに出力する関数\n",
    "def plot_cm(y_true, y_pred):\n",
    "    confmat = cm(y_true, y_pred)\n",
    "    fig, ax = plt.subplots(figsize=(5, 5))\n",
    "    ax.matshow(confmat, cmap=plt.cm.Blues, alpha=0.3)\n",
    "    for i in range(confmat.shape[0]):\n",
    "        for j in range(confmat.shape[1]):\n",
    "            ax.text(x=j, y=i, s=confmat[i, j], va='center', ha='center')\n",
    "    plt.xticks(np.arange(0, 5, 1))                               # x軸の目盛りを指定\n",
    "    plt.yticks(np.arange(0, 5, 1))  \n",
    "    plt.xlabel('true label')\n",
    "    plt.ylabel('predicted label')\n",
    "    plt.show()\n",
    "    \n",
    "# 混同行列を出力\n",
    "result = predict(model, X_test)\n",
    "plot_cm(result, y_test)"
   ]
  },
  {
   "cell_type": "code",
   "execution_count": 27,
   "metadata": {},
   "outputs": [
    {
     "name": "stdout",
     "output_type": "stream",
     "text": [
      "['clock', 'cup', 'bicycle', 'television', 'chair']\n"
     ]
    }
   ],
   "source": [
    "# ラベルを確認\n",
    "print(label)"
   ]
  },
  {
   "cell_type": "code",
   "execution_count": 28,
   "metadata": {
    "collapsed": true
   },
   "outputs": [],
   "source": [
    "# 予測が外れたtestデータを格納するリストを用意\n",
    "errors = []\n",
    "\n",
    "# すべてのtestデータをチェック\n",
    "for i in range(len(y_test)):\n",
    "    pred_1 = predict(model, X_test[i])\n",
    "    if pred_1 != y_test[i]:\n",
    "        # (index, 正解ラベル, 予測ラベル)をタプル形式で格納\n",
    "        errors.append((i, label[y_test[i]], label[pred_1]))"
   ]
  },
  {
   "cell_type": "code",
   "execution_count": 29,
   "metadata": {},
   "outputs": [
    {
     "data": {
      "text/plain": [
       "105"
      ]
     },
     "execution_count": 29,
     "metadata": {},
     "output_type": "execute_result"
    }
   ],
   "source": [
    "# 誤分類の総数を出力\n",
    "len(errors)"
   ]
  },
  {
   "cell_type": "code",
   "execution_count": 30,
   "metadata": {},
   "outputs": [
    {
     "data": {
      "image/png": "[encoded data removed]",
      "text/plain": [
       "<matplotlib.figure.Figure at 0x114d5f2e8>"
      ]
     },
     "metadata": {},
     "output_type": "display_data"
    },
    {
     "name": "stdout",
     "output_type": "stream",
     "text": [
      "class: clock\n",
      "label: 0\n",
      "clock\n",
      "television\n"
     ]
    },
    {
     "data": {
      "image/png": "[encoded data removed]",
      "text/plain": [
       "<matplotlib.figure.Figure at 0x1147a56d8>"
      ]
     },
     "metadata": {},
     "output_type": "display_data"
    },
    {
     "name": "stdout",
     "output_type": "stream",
     "text": [
      "class: clock\n",
      "label: 0\n",
      "clock\n",
      "television\n"
     ]
    },
    {
     "data": {
      "image/png": "[encoded data removed]",
      "text/plain": [
       "<matplotlib.figure.Figure at 0x10f75f7b8>"
      ]
     },
     "metadata": {},
     "output_type": "display_data"
    },
    {
     "name": "stdout",
     "output_type": "stream",
     "text": [
      "class: clock\n",
      "label: 0\n",
      "clock\n",
      "bicycle\n"
     ]
    }
   ],
   "source": [
    "# 予測が外れた画像を集めて表示する\n",
    "# 数が多いので3つだけ表示\n",
    "for error_index, corr_label, pred_label in errors[:3]:\n",
    "    show_test_sample_info(error_index)\n",
    "    print(corr_label)\n",
    "    print(pred_label)"
   ]
  },
  {
   "cell_type": "code",
   "execution_count": null,
   "metadata": {
    "collapsed": true
   },
   "outputs": [],
   "source": []
  }
 ],
 "metadata": {
  "kernelspec": {
   "display_name": "Python 3",
   "language": "python",
   "name": "python3"
  },
  "language_info": {
   "codemirror_mode": {
    "name": "ipython",
    "version": 3
   },
   "file_extension": ".py",
   "mimetype": "text/x-python",
   "name": "python",
   "nbconvert_exporter": "python",
   "pygments_lexer": "ipython3",
   "version": "3.6.2"
  }
 },
 "nbformat": 4,
 "nbformat_minor": 2
}
