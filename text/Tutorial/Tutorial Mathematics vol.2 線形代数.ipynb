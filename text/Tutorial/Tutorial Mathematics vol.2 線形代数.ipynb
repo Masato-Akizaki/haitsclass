{
 "cells": [
  {
   "cell_type": "code",
   "execution_count": 1,
   "metadata": {
    "collapsed": true
   },
   "outputs": [],
   "source": [
    "import numpy as np"
   ]
  },
  {
   "cell_type": "code",
   "execution_count": 2,
   "metadata": {
    "collapsed": true
   },
   "outputs": [],
   "source": [
    "measure=np.array([\n",
    "    [170,65,20],\n",
    "    [180,80,25],\n",
    "    [160,55,15]\n",
    "    ])"
   ]
  },
  {
   "cell_type": "code",
   "execution_count": 3,
   "metadata": {},
   "outputs": [
    {
     "name": "stdout",
     "output_type": "stream",
     "text": [
      "[[170  65  20]\n",
      " [180  80  25]\n",
      " [160  55  15]]\n"
     ]
    }
   ],
   "source": [
    "print(measure)"
   ]
  },
  {
   "cell_type": "code",
   "execution_count": 4,
   "metadata": {
    "collapsed": true
   },
   "outputs": [],
   "source": [
    "A = np.array([\n",
    "        [1,0,0],\n",
    "        [0,1,0],\n",
    "        [0,1,0],\n",
    "        [0,0,1]\n",
    "    ])\n",
    "\n",
    "B = np.array([\n",
    "        [158,50,84,63,86]\n",
    "    ])\n",
    "\n",
    "C = np.array([\n",
    "        [1],\n",
    "        [2],\n",
    "        [0],\n",
    "        [2],\n",
    "        [0]\n",
    "    ])"
   ]
  },
  {
   "cell_type": "code",
   "execution_count": 5,
   "metadata": {},
   "outputs": [
    {
     "name": "stdout",
     "output_type": "stream",
     "text": [
      "[[1 0 0]\n",
      " [0 1 0]\n",
      " [0 1 0]\n",
      " [0 0 1]]\n",
      "\n",
      "[[158  50  84  63  86]]\n",
      "\n",
      "[[1]\n",
      " [2]\n",
      " [0]\n",
      " [2]\n",
      " [0]]\n"
     ]
    }
   ],
   "source": [
    "print(A,end='\\n\\n')\n",
    "print(B,end='\\n\\n')\n",
    "print(C)"
   ]
  },
  {
   "cell_type": "code",
   "execution_count": 6,
   "metadata": {},
   "outputs": [
    {
     "name": "stdout",
     "output_type": "stream",
     "text": [
      "A.shape = (4, 3)\n",
      "B.shape = (1, 5)\n",
      "C.shape = (5, 1)\n"
     ]
    }
   ],
   "source": [
    "print(\"A.shape = \" + str(A.shape)) \n",
    "print(\"B.shape = \" + str(B.shape))\n",
    "print(\"C.shape = \" + str(C.shape)) "
   ]
  },
  {
   "cell_type": "code",
   "execution_count": 7,
   "metadata": {},
   "outputs": [
    {
     "name": "stdout",
     "output_type": "stream",
     "text": [
      "[[170  65  20]\n",
      " [180  80  25]\n",
      " [160  55  15]]\n"
     ]
    }
   ],
   "source": [
    "print(measure)"
   ]
  },
  {
   "cell_type": "code",
   "execution_count": 8,
   "metadata": {},
   "outputs": [
    {
     "data": {
      "text/plain": [
       "25"
      ]
     },
     "execution_count": 8,
     "metadata": {},
     "output_type": "execute_result"
    }
   ],
   "source": [
    "measure[1,2]"
   ]
  },
  {
   "cell_type": "code",
   "execution_count": 9,
   "metadata": {},
   "outputs": [
    {
     "name": "stdout",
     "output_type": "stream",
     "text": [
      "[[170  65  20]\n",
      " [180  80  25]\n",
      " [160  55  15]]\n"
     ]
    }
   ],
   "source": [
    "print(measure)"
   ]
  },
  {
   "cell_type": "code",
   "execution_count": 10,
   "metadata": {},
   "outputs": [
    {
     "name": "stdout",
     "output_type": "stream",
     "text": [
      "[170  65  20]\n",
      "(3,)\n"
     ]
    }
   ],
   "source": [
    "print(measure[0,:])\n",
    "print(measure[0,:].shape)"
   ]
  },
  {
   "cell_type": "code",
   "execution_count": 11,
   "metadata": {},
   "outputs": [
    {
     "name": "stdout",
     "output_type": "stream",
     "text": [
      "[[170  65  20]]\n",
      "(1, 3)\n"
     ]
    }
   ],
   "source": [
    "print(measure[0,:].reshape(1,-1))\n",
    "print(measure[0,:].reshape(1,-1).shape)"
   ]
  },
  {
   "cell_type": "code",
   "execution_count": 13,
   "metadata": {},
   "outputs": [
    {
     "name": "stdout",
     "output_type": "stream",
     "text": [
      "[65 80 55]\n",
      "(3,)\n"
     ]
    }
   ],
   "source": [
    "print(measure[:,1])\n",
    "print(measure[:,1].shape)"
   ]
  },
  {
   "cell_type": "code",
   "execution_count": 14,
   "metadata": {},
   "outputs": [
    {
     "name": "stdout",
     "output_type": "stream",
     "text": [
      "[[65]\n",
      " [80]\n",
      " [55]]\n",
      "(3, 1)\n"
     ]
    }
   ],
   "source": [
    "print(measure[:,1].reshape(-1,1))\n",
    "print(measure[:,1].reshape(-1,1).shape)"
   ]
  },
  {
   "cell_type": "code",
   "execution_count": 15,
   "metadata": {},
   "outputs": [
    {
     "name": "stdout",
     "output_type": "stream",
     "text": [
      "[[170  65  20]\n",
      " [180  80  25]\n",
      " [160  55  15]]\n"
     ]
    }
   ],
   "source": [
    "print(measure)"
   ]
  },
  {
   "cell_type": "code",
   "execution_count": 16,
   "metadata": {},
   "outputs": [
    {
     "name": "stdout",
     "output_type": "stream",
     "text": [
      "[[170 180 160]\n",
      " [ 65  80  55]\n",
      " [ 20  25  15]]\n"
     ]
    }
   ],
   "source": [
    "print(measure.T)"
   ]
  },
  {
   "cell_type": "code",
   "execution_count": 17,
   "metadata": {
    "collapsed": true
   },
   "outputs": [],
   "source": [
    "D=np.array([\n",
    "    [10,30],\n",
    "    [20,40],\n",
    "])\n",
    "F=np.array([\n",
    "    [1,2],\n",
    "    [3,4],\n",
    "])"
   ]
  },
  {
   "cell_type": "code",
   "execution_count": 18,
   "metadata": {},
   "outputs": [
    {
     "name": "stdout",
     "output_type": "stream",
     "text": [
      "[[11 32]\n",
      " [23 44]]\n"
     ]
    }
   ],
   "source": [
    "print(D+F)"
   ]
  },
  {
   "cell_type": "code",
   "execution_count": 19,
   "metadata": {},
   "outputs": [
    {
     "name": "stdout",
     "output_type": "stream",
     "text": [
      "[[ 9 28]\n",
      " [17 36]]\n"
     ]
    }
   ],
   "source": [
    "print(D-F)"
   ]
  },
  {
   "cell_type": "code",
   "execution_count": 20,
   "metadata": {
    "collapsed": true
   },
   "outputs": [],
   "source": [
    "a=np.array([[1,2,3]])\n",
    "b=np.array([[4,5,6]])\n",
    "c=np.array([\n",
    "    [1],\n",
    "    [2],\n",
    "    [3],\n",
    "])\n",
    "d=np.array([\n",
    "    [4],\n",
    "    [5],\n",
    "    [6],\n",
    "])"
   ]
  },
  {
   "cell_type": "code",
   "execution_count": 21,
   "metadata": {},
   "outputs": [
    {
     "name": "stdout",
     "output_type": "stream",
     "text": [
      "[[5 7 9]]\n",
      "[[5]\n",
      " [7]\n",
      " [9]]\n"
     ]
    }
   ],
   "source": [
    "print(a+b)\n",
    "print(c+d)"
   ]
  },
  {
   "cell_type": "code",
   "execution_count": 22,
   "metadata": {},
   "outputs": [
    {
     "name": "stdout",
     "output_type": "stream",
     "text": [
      "[[-3 -3 -3]]\n",
      "[[-3]\n",
      " [-3]\n",
      " [-3]]\n"
     ]
    }
   ],
   "source": [
    "print(a-b)\n",
    "print(c-d)"
   ]
  },
  {
   "cell_type": "code",
   "execution_count": 24,
   "metadata": {},
   "outputs": [],
   "source": [
    "G=np.array([\n",
    "    [1,2],\n",
    "    [3,4],\n",
    "])"
   ]
  },
  {
   "cell_type": "code",
   "execution_count": 25,
   "metadata": {},
   "outputs": [
    {
     "name": "stdout",
     "output_type": "stream",
     "text": [
      "[[10 20]\n",
      " [30 40]]\n"
     ]
    }
   ],
   "source": [
    "print(10*G)"
   ]
  },
  {
   "cell_type": "code",
   "execution_count": 26,
   "metadata": {
    "collapsed": true
   },
   "outputs": [],
   "source": [
    "a = np.array([[1, 2, 3]])\n",
    "c = np.array([\n",
    "        [1],\n",
    "        [2],\n",
    "        [3]\n",
    "    ])"
   ]
  },
  {
   "cell_type": "code",
   "execution_count": 27,
   "metadata": {},
   "outputs": [
    {
     "name": "stdout",
     "output_type": "stream",
     "text": [
      "[[10 20 30]]\n",
      "[[10]\n",
      " [20]\n",
      " [30]]\n"
     ]
    }
   ],
   "source": [
    "print(10 * a)\n",
    "print(10 * c)"
   ]
  },
  {
   "cell_type": "code",
   "execution_count": 28,
   "metadata": {
    "collapsed": true
   },
   "outputs": [],
   "source": [
    "J = np.array([\n",
    "        [1, 2, 3, 4],\n",
    "        [5, 6, 7, 8],\n",
    "        [9, 10, 11, 12]\n",
    "    ])\n",
    "\n",
    "K = np.array([\n",
    "        [10, 20],\n",
    "        [30, 40],\n",
    "        [50, 60],\n",
    "        [70, 80]\n",
    "    ])"
   ]
  },
  {
   "cell_type": "code",
   "execution_count": 30,
   "metadata": {},
   "outputs": [
    {
     "name": "stdout",
     "output_type": "stream",
     "text": [
      "[[ 500  600]\n",
      " [1140 1400]\n",
      " [1780 2200]]\n"
     ]
    }
   ],
   "source": [
    "print(np.dot(J,K))"
   ]
  },
  {
   "cell_type": "code",
   "execution_count": 31,
   "metadata": {},
   "outputs": [
    {
     "name": "stdout",
     "output_type": "stream",
     "text": [
      "[[ 500  600]\n",
      " [1140 1400]\n",
      " [1780 2200]]\n"
     ]
    }
   ],
   "source": [
    "print(J@K)"
   ]
  },
  {
   "cell_type": "code",
   "execution_count": 33,
   "metadata": {},
   "outputs": [
    {
     "name": "stdout",
     "output_type": "stream",
     "text": [
      "[[ 10  60]\n",
      " [ 60 160]]\n"
     ]
    }
   ],
   "source": [
    "print(D*F)"
   ]
  },
  {
   "cell_type": "code",
   "execution_count": 34,
   "metadata": {},
   "outputs": [
    {
     "name": "stdout",
     "output_type": "stream",
     "text": [
      "[[100 140]\n",
      " [140 200]]\n",
      "[[ 50 110]\n",
      " [110 250]]\n"
     ]
    }
   ],
   "source": [
    "print(D @ F)\n",
    "print(F @ D)"
   ]
  },
  {
   "cell_type": "code",
   "execution_count": 35,
   "metadata": {
    "collapsed": true
   },
   "outputs": [],
   "source": [
    "e = np.array([\n",
    "        [1],\n",
    "        [2],\n",
    "        [3],\n",
    "        [4]\n",
    "    ])\n",
    "\n",
    "f = np.array([\n",
    "        [10],\n",
    "        [20],\n",
    "        [30],\n",
    "        [40]\n",
    "    ])"
   ]
  },
  {
   "cell_type": "code",
   "execution_count": 36,
   "metadata": {},
   "outputs": [
    {
     "name": "stdout",
     "output_type": "stream",
     "text": [
      "[[300]]\n"
     ]
    }
   ],
   "source": [
    "print(np.dot(e.T,f))"
   ]
  },
  {
   "cell_type": "code",
   "execution_count": 38,
   "metadata": {},
   "outputs": [
    {
     "name": "stdout",
     "output_type": "stream",
     "text": [
      "[[300]]\n"
     ]
    }
   ],
   "source": [
    "print(e.T@f)"
   ]
  },
  {
   "cell_type": "code",
   "execution_count": 39,
   "metadata": {
    "collapsed": true
   },
   "outputs": [],
   "source": [
    "A=np.array([\n",
    "    [220,100],\n",
    "    [150,150]\n",
    "])\n",
    "X=np.array([\n",
    "    [2],\n",
    "    [3]\n",
    "])"
   ]
  },
  {
   "cell_type": "code",
   "execution_count": 40,
   "metadata": {},
   "outputs": [
    {
     "name": "stdout",
     "output_type": "stream",
     "text": [
      "[[740]\n",
      " [750]]\n"
     ]
    }
   ],
   "source": [
    "print(A@X)"
   ]
  },
  {
   "cell_type": "code",
   "execution_count": null,
   "metadata": {
    "collapsed": true
   },
   "outputs": [],
   "source": []
  }
 ],
 "metadata": {
  "kernelspec": {
   "display_name": "Python 3",
   "language": "python",
   "name": "python3"
  },
  "language_info": {
   "codemirror_mode": {
    "name": "ipython",
    "version": 3
   },
   "file_extension": ".py",
   "mimetype": "text/x-python",
   "name": "python",
   "nbconvert_exporter": "python",
   "pygments_lexer": "ipython3",
   "version": "3.6.2"
  }
 },
 "nbformat": 4,
 "nbformat_minor": 2
}
