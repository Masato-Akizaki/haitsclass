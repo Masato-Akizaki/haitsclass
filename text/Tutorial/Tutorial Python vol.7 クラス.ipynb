{
 "cells": [
  {
   "cell_type": "code",
   "execution_count": 11,
   "metadata": {},
   "outputs": [
    {
     "name": "stdout",
     "output_type": "stream",
     "text": [
      "0\n",
      "1\n"
     ]
    }
   ],
   "source": [
    "l1 = [\"a\",\"p\",\"p\",\"l\",\"e\"]\n",
    "l2 = [\"b\",\"a\",\"n\",\"a\",\"n\",\"a\"]\n",
    "print(l1.index(\"a\"))     \n",
    "print(l2.index(\"a\"))    "
   ]
  },
  {
   "cell_type": "code",
   "execution_count": 12,
   "metadata": {},
   "outputs": [
    {
     "name": "stdout",
     "output_type": "stream",
     "text": [
      "4 10 2\n",
      "2\n"
     ]
    }
   ],
   "source": [
    "r=range(4,10,2)\n",
    "print(r.start,r.stop,r.step)\n",
    "print(r.index(8))"
   ]
  },
  {
   "cell_type": "code",
   "execution_count": 13,
   "metadata": {
    "collapsed": true
   },
   "outputs": [],
   "source": [
    "class Customer:    \n",
    "    def __init__(self,customer_name, age, gym_name):\n",
    "        self.customer_name = customer_name \n",
    "        self.age = age\n",
    "        self.gym_name = gym_name\n",
    "        \n",
    "    def fee(self):\n",
    "        if self.age < 20:\n",
    "            self.fee = 3000\n",
    "        elif self.age >= 65:\n",
    "            self.fee = 5000\n",
    "        else:\n",
    "            self.fee = 10000\n",
    "        return self.fee"
   ]
  },
  {
   "cell_type": "code",
   "execution_count": 14,
   "metadata": {},
   "outputs": [
    {
     "name": "stdout",
     "output_type": "stream",
     "text": [
      "笹岡\n",
      "10000\n",
      "土橋\n",
      "5000\n"
     ]
    }
   ],
   "source": [
    "c1 = Customer(customer_name=\"笹岡\",age=53,gym_name=\"大塚店\")\n",
    "c2 = Customer(customer_name=\"土橋\",age=67,gym_name=\"新宿店\")\n",
    "print(c1.customer_name)\n",
    "print(c1.fee())\n",
    "print(c2.customer_name)\n",
    "print(c2.fee())"
   ]
  },
  {
   "cell_type": "code",
   "execution_count": 15,
   "metadata": {
    "collapsed": true
   },
   "outputs": [],
   "source": [
    "class Customer:\n",
    "    def __init__(self,customer_name,age,gym_name):\n",
    "        self.customer_name=customer_name\n",
    "        self.age=age\n",
    "        self.gym_name=gym_name\n",
    "        \n",
    "    def fee(self):\n",
    "        if self.age<20:\n",
    "            self.fee=3000\n",
    "        elif self.age>=65:\n",
    "            self.fee=5000\n",
    "        else:\n",
    "            self.fee=10000\n",
    "        return self.fee"
   ]
  },
  {
   "cell_type": "code",
   "execution_count": 20,
   "metadata": {},
   "outputs": [
    {
     "name": "stdout",
     "output_type": "stream",
     "text": [
      "笹岡\n",
      "10000\n",
      "土橋\n",
      "5000\n"
     ]
    }
   ],
   "source": [
    "c1=Customer(customer_name='笹岡',age=53,gym_name='大塚店')\n",
    "c2=Customer(customer_name='土橋',age=67,gym_name='新宿店')\n",
    "print(c1.customer_name)\n",
    "print(c1.fee())\n",
    "print(c2.customer_name)\n",
    "print(c2.fee())"
   ]
  },
  {
   "cell_type": "code",
   "execution_count": 22,
   "metadata": {
    "collapsed": true
   },
   "outputs": [],
   "source": [
    "class Rectangle():\n",
    "    def __init__(self,height,width):\n",
    "        self.height=height\n",
    "        self.width=width"
   ]
  },
  {
   "cell_type": "code",
   "execution_count": 23,
   "metadata": {},
   "outputs": [
    {
     "name": "stdout",
     "output_type": "stream",
     "text": [
      "長方形の高さ 2\n",
      "長方形の幅 3\n"
     ]
    }
   ],
   "source": [
    "r=Rectangle(2,3)\n",
    "print(\"長方形の高さ\",r.height)\n",
    "print(\"長方形の幅\",r.width)"
   ]
  },
  {
   "cell_type": "code",
   "execution_count": 24,
   "metadata": {
    "collapsed": true
   },
   "outputs": [],
   "source": [
    "class Rectangle():\n",
    "    def __init__(self,height,width):\n",
    "        self.height=height\n",
    "        self.width=width\n",
    "        \n",
    "    def print_status(self):\n",
    "        print(\"高さ\",self.height)\n",
    "        print(\"幅\",self.width)"
   ]
  },
  {
   "cell_type": "code",
   "execution_count": 25,
   "metadata": {},
   "outputs": [
    {
     "name": "stdout",
     "output_type": "stream",
     "text": [
      "高さ 2\n",
      "幅 3\n"
     ]
    }
   ],
   "source": [
    "r=Rectangle(2,3)\n",
    "r.print_status()"
   ]
  },
  {
   "cell_type": "code",
   "execution_count": 26,
   "metadata": {
    "collapsed": true
   },
   "outputs": [],
   "source": [
    "class Rectangle():\n",
    "    def __init__(self,height,width):\n",
    "        self.height = height\n",
    "        self.width = width\n",
    "        \n",
    "    def print_status(self):\n",
    "        print(\"高さ\",self.height)\n",
    "        print(\"幅\",self.width)\n",
    "        \n",
    "    def area(self):\n",
    "        return self.height*self.width"
   ]
  },
  {
   "cell_type": "code",
   "execution_count": 27,
   "metadata": {},
   "outputs": [
    {
     "name": "stdout",
     "output_type": "stream",
     "text": [
      "長方形の面積 6\n"
     ]
    }
   ],
   "source": [
    "r = Rectangle(2,3)\n",
    "print(\"長方形の面積\",r.area())"
   ]
  },
  {
   "cell_type": "code",
   "execution_count": null,
   "metadata": {
    "collapsed": true
   },
   "outputs": [],
   "source": []
  }
 ],
 "metadata": {
  "kernelspec": {
   "display_name": "Python 3",
   "language": "python",
   "name": "python3"
  },
  "language_info": {
   "codemirror_mode": {
    "name": "ipython",
    "version": 3
   },
   "file_extension": ".py",
   "mimetype": "text/x-python",
   "name": "python",
   "nbconvert_exporter": "python",
   "pygments_lexer": "ipython3",
   "version": "3.6.2"
  }
 },
 "nbformat": 4,
 "nbformat_minor": 2
}
